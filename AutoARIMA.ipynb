{
  "nbformat": 4,
  "nbformat_minor": 0,
  "metadata": {
    "colab": {
      "provenance": [],
      "authorship_tag": "ABX9TyO69su9GF5xp0QyjNUDBsT9",
      "include_colab_link": true
    },
    "kernelspec": {
      "name": "python3",
      "display_name": "Python 3"
    },
    "language_info": {
      "name": "python"
    }
  },
  "cells": [
    {
      "cell_type": "markdown",
      "metadata": {
        "id": "view-in-github",
        "colab_type": "text"
      },
      "source": [
        "<a href=\"https://colab.research.google.com/github/GaneshiUmayangana/Average_Fare_Forecasting/blob/main/AutoARIMA.ipynb\" target=\"_parent\"><img src=\"https://colab.research.google.com/assets/colab-badge.svg\" alt=\"Open In Colab\"/></a>"
      ]
    },
    {
      "cell_type": "code",
      "source": [
        "import streamlit as st\n",
        "import pandas as pd\n",
        "import plotly.graph_objects as go\n",
        "from statsmodels.tsa.stattools import adfuller\n",
        "# Import the 'auto_arima' function from 'pmdarima'\n",
        "from pmdarima import auto_arima\n",
        "import numpy as np"
      ],
      "metadata": {
        "id": "9e-dzdJSYnFH"
      },
      "execution_count": 17,
      "outputs": []
    },
    {
      "cell_type": "code",
      "source": [
        "# Streamlit page configuration\n",
        "st.set_page_config(\n",
        "    page_title=\"Forecasting Dashboard\",\n",
        "    page_icon=\":chart_with_upwards_trend:\",\n",
        "    layout=\"wide\"\n",
        ")\n",
        "st.header(\"Average YLD Prediction\")\n",
        "\n",
        "# Load your dataset\n",
        "df = pd.read_excel('Daily Yield_Nov24_12M&6M.xlsx', sheet_name='6M')\n",
        "\n",
        "# Get unique sectors from the 'Sector' column\n",
        "sectors = df['Sector'].unique()\n",
        "\n",
        "# Create a selectbox for the user to choose a sector\n",
        "selected_sector = st.selectbox('Select Sector', sectors)\n",
        "\n",
        "# Convert 'Sale Date' to datetime format\n",
        "df[\"Sale Date\"] = pd.to_datetime(df[\"Sale Date\"])\n",
        "\n",
        "# Input forecast period start and end dates\n",
        "forecast_period_start = st.date_input(\"Forecast Period: Start\", key=\"start_pax_count\")\n",
        "forecast_period_end = st.date_input(\"Forecast Period End\", key=\"end_pax_count\")\n",
        "forecast_period_start = pd.to_datetime(forecast_period_start)\n",
        "forecast_period_end = pd.to_datetime(forecast_period_end)\n",
        "\n",
        "# Filter data for the selected sector\n",
        "df_filtered = df[df['Sector'] == selected_sector]\n",
        "\n",
        "# Group by 'Sale Date' and calculate the average YLD USD and sum of PAX COUNT\n",
        "df_grouped = df_filtered.groupby(\"Sale Date\", as_index=False).agg(\n",
        "    Avg_YLD_USD=(\"YLD USD\", \"mean\"),\n",
        "    Sum_PAX=(\"PAX COUNT\", \"sum\")\n",
        ")\n",
        "st.write(df_grouped)\n",
        "\n",
        "# Create the time series plot of the average yield\n",
        "fig = go.Figure()\n",
        "\n",
        "# Add line plot for Average YLD USD\n",
        "fig.add_trace(go.Scatter(\n",
        "    x=df_grouped['Sale Date'],\n",
        "    y=df_grouped['Avg_YLD_USD'],\n",
        "    mode='lines',\n",
        "    name='Average YLD USD'\n",
        "))\n",
        "\n",
        "# Update the layout of the plot\n",
        "fig.update_layout(\n",
        "    title=f\"Time Series of Average Yield for {selected_sector}\",\n",
        "    xaxis_title=\"Sale Date\",\n",
        "    yaxis_title=\"Average YLD USD\",\n",
        "    template=\"plotly_dark\"\n",
        ")\n",
        "\n",
        "# Display the plot in Streamlit\n",
        "st.plotly_chart(fig)\n",
        "\n",
        "# Stationarity Test: Augmented Dickey-Fuller (ADF) Test\n",
        "def adf_test(series):\n",
        "    result = adfuller(series)\n",
        "    return result\n",
        "\n",
        "# Perform the ADF test on the 'Avg_YLD_USD' series\n",
        "adf_result = adf_test(df_grouped['Avg_YLD_USD'])\n",
        "\n",
        "# Display ADF test results\n",
        "adf_statistic = adf_result[0]\n",
        "adf_p_value = adf_result[1]\n",
        "adf_critical_values = adf_result[4]\n",
        "\n",
        "# Show the test results in Streamlit\n",
        "st.write(f\"ADF Statistic: {adf_statistic}\")\n",
        "st.write(f\"p-value: {adf_p_value}\")\n",
        "st.write(\"Critical Values:\")\n",
        "for key, value in adf_critical_values.items():\n",
        "    st.write(f\"{key}: {value}\")\n",
        "\n",
        "# Interpret the result\n",
        "if adf_p_value < 0.05:\n",
        "    st.write(\"The time series is **stationary** (p-value < 0.05).\")\n",
        "else:\n",
        "    st.write(\"The time series is **not stationary** (p-value >= 0.05).\")\n",
        "    # If the series is not stationary, apply differencing\n",
        "    df_grouped['Diff_Avg_YLD_USD'] = df_grouped['Avg_YLD_USD'].diff().dropna()\n",
        "\n",
        "    # Plot the differenced time series\n",
        "    fig_diff = go.Figure()\n",
        "\n",
        "    # Add line plot for differenced Average YLD USD\n",
        "    fig_diff.add_trace(go.Scatter(\n",
        "        x=df_grouped['Sale Date'][1:],  # Start from the second point after differencing\n",
        "        y=df_grouped['Diff_Avg_YLD_USD'],\n",
        "        mode='lines',\n",
        "        name='Differenced Avg YLD USD'\n",
        "    ))\n",
        "\n",
        "    # Update the layout of the plot\n",
        "    fig_diff.update_layout(\n",
        "        title=f\"Time Series of Differenced Average Yield for {selected_sector}\",\n",
        "        xaxis_title=\"Sale Date\",\n",
        "        yaxis_title=\"Differenced Avg YLD USD\",\n",
        "        template=\"plotly_dark\"\n",
        "    )\n",
        "\n",
        "    # Display the differenced plot in Streamlit\n",
        "    st.plotly_chart(fig_diff)\n",
        "\n",
        "    # Perform the ADF test on the differenced series\n",
        "    adf_result_diff = adf_test(df_grouped['Diff_Avg_YLD_USD'].dropna())\n",
        "\n",
        "    # Show the test results for the differenced series\n",
        "    st.write(f\"ADF Statistic (Differenced): {adf_result_diff[0]}\")\n",
        "    st.write(f\"p-value (Differenced): {adf_result_diff[1]}\")\n",
        "    st.write(\"Critical Values (Differenced):\")\n",
        "    for key, value in adf_result_diff[4].items():\n",
        "        st.write(f\"{key}: {value}\")\n",
        "\n",
        "    # Interpret the result for the differenced series\n",
        "    if adf_result_diff[1] < 0.05:\n",
        "        st.write(\"The differenced time series is **stationary** (p-value < 0.05).\")\n",
        "    else:\n",
        "        st.write(\"The differenced time series is **not stationary** (p-value >= 0.05).\")\n"
      ],
      "metadata": {
        "colab": {
          "base_uri": "https://localhost:8080/"
        },
        "id": "096-BuS6YnOc",
        "outputId": "8013ba66-ab61-4fe1-ec14-86fd722ce0c0"
      },
      "execution_count": 8,
      "outputs": [
        {
          "output_type": "stream",
          "name": "stderr",
          "text": [
            "2025-01-22 09:45:59.822 Thread 'MainThread': missing ScriptRunContext! This warning can be ignored when running in bare mode.\n",
            "2025-01-22 09:45:59.825 Thread 'MainThread': missing ScriptRunContext! This warning can be ignored when running in bare mode.\n",
            "2025-01-22 09:45:59.828 Thread 'MainThread': missing ScriptRunContext! This warning can be ignored when running in bare mode.\n",
            "2025-01-22 09:46:07.489 Thread 'MainThread': missing ScriptRunContext! This warning can be ignored when running in bare mode.\n",
            "2025-01-22 09:46:07.491 Thread 'MainThread': missing ScriptRunContext! This warning can be ignored when running in bare mode.\n",
            "2025-01-22 09:46:07.500 Thread 'MainThread': missing ScriptRunContext! This warning can be ignored when running in bare mode.\n",
            "2025-01-22 09:46:07.502 Thread 'MainThread': missing ScriptRunContext! This warning can be ignored when running in bare mode.\n",
            "2025-01-22 09:46:07.503 Session state does not function when running a script without `streamlit run`\n",
            "2025-01-22 09:46:07.506 Thread 'MainThread': missing ScriptRunContext! This warning can be ignored when running in bare mode.\n",
            "2025-01-22 09:46:07.508 Thread 'MainThread': missing ScriptRunContext! This warning can be ignored when running in bare mode.\n",
            "2025-01-22 09:46:07.548 Thread 'MainThread': missing ScriptRunContext! This warning can be ignored when running in bare mode.\n",
            "2025-01-22 09:46:07.549 Thread 'MainThread': missing ScriptRunContext! This warning can be ignored when running in bare mode.\n",
            "2025-01-22 09:46:07.552 Thread 'MainThread': missing ScriptRunContext! This warning can be ignored when running in bare mode.\n",
            "2025-01-22 09:46:07.556 Thread 'MainThread': missing ScriptRunContext! This warning can be ignored when running in bare mode.\n",
            "2025-01-22 09:46:07.557 Thread 'MainThread': missing ScriptRunContext! This warning can be ignored when running in bare mode.\n",
            "2025-01-22 09:46:07.559 Thread 'MainThread': missing ScriptRunContext! This warning can be ignored when running in bare mode.\n",
            "2025-01-22 09:46:07.560 Thread 'MainThread': missing ScriptRunContext! This warning can be ignored when running in bare mode.\n",
            "2025-01-22 09:46:07.561 Thread 'MainThread': missing ScriptRunContext! This warning can be ignored when running in bare mode.\n",
            "2025-01-22 09:46:07.562 Thread 'MainThread': missing ScriptRunContext! This warning can be ignored when running in bare mode.\n",
            "2025-01-22 09:46:07.564 Thread 'MainThread': missing ScriptRunContext! This warning can be ignored when running in bare mode.\n",
            "2025-01-22 09:46:07.566 Thread 'MainThread': missing ScriptRunContext! This warning can be ignored when running in bare mode.\n",
            "2025-01-22 09:46:07.567 Thread 'MainThread': missing ScriptRunContext! This warning can be ignored when running in bare mode.\n",
            "2025-01-22 09:46:07.643 Thread 'MainThread': missing ScriptRunContext! This warning can be ignored when running in bare mode.\n",
            "2025-01-22 09:46:07.644 Thread 'MainThread': missing ScriptRunContext! This warning can be ignored when running in bare mode.\n",
            "2025-01-22 09:46:08.983 Thread 'MainThread': missing ScriptRunContext! This warning can be ignored when running in bare mode.\n",
            "2025-01-22 09:46:08.985 Thread 'MainThread': missing ScriptRunContext! This warning can be ignored when running in bare mode.\n",
            "2025-01-22 09:46:08.988 Thread 'MainThread': missing ScriptRunContext! This warning can be ignored when running in bare mode.\n",
            "2025-01-22 09:46:08.992 Thread 'MainThread': missing ScriptRunContext! This warning can be ignored when running in bare mode.\n",
            "2025-01-22 09:46:09.037 Thread 'MainThread': missing ScriptRunContext! This warning can be ignored when running in bare mode.\n",
            "2025-01-22 09:46:09.038 Thread 'MainThread': missing ScriptRunContext! This warning can be ignored when running in bare mode.\n",
            "2025-01-22 09:46:09.042 Thread 'MainThread': missing ScriptRunContext! This warning can be ignored when running in bare mode.\n",
            "2025-01-22 09:46:09.044 Thread 'MainThread': missing ScriptRunContext! This warning can be ignored when running in bare mode.\n",
            "2025-01-22 09:46:09.047 Thread 'MainThread': missing ScriptRunContext! This warning can be ignored when running in bare mode.\n",
            "2025-01-22 09:46:09.049 Thread 'MainThread': missing ScriptRunContext! This warning can be ignored when running in bare mode.\n",
            "2025-01-22 09:46:09.051 Thread 'MainThread': missing ScriptRunContext! This warning can be ignored when running in bare mode.\n",
            "2025-01-22 09:46:09.052 Thread 'MainThread': missing ScriptRunContext! This warning can be ignored when running in bare mode.\n",
            "2025-01-22 09:46:09.053 Thread 'MainThread': missing ScriptRunContext! This warning can be ignored when running in bare mode.\n",
            "2025-01-22 09:46:09.055 Thread 'MainThread': missing ScriptRunContext! This warning can be ignored when running in bare mode.\n",
            "2025-01-22 09:46:09.056 Thread 'MainThread': missing ScriptRunContext! This warning can be ignored when running in bare mode.\n",
            "2025-01-22 09:46:09.058 Thread 'MainThread': missing ScriptRunContext! This warning can be ignored when running in bare mode.\n",
            "2025-01-22 09:46:09.059 Thread 'MainThread': missing ScriptRunContext! This warning can be ignored when running in bare mode.\n",
            "2025-01-22 09:46:09.060 Thread 'MainThread': missing ScriptRunContext! This warning can be ignored when running in bare mode.\n",
            "2025-01-22 09:46:09.061 Thread 'MainThread': missing ScriptRunContext! This warning can be ignored when running in bare mode.\n",
            "2025-01-22 09:46:09.063 Thread 'MainThread': missing ScriptRunContext! This warning can be ignored when running in bare mode.\n",
            "2025-01-22 09:46:09.064 Thread 'MainThread': missing ScriptRunContext! This warning can be ignored when running in bare mode.\n",
            "2025-01-22 09:46:09.065 Thread 'MainThread': missing ScriptRunContext! This warning can be ignored when running in bare mode.\n",
            "2025-01-22 09:46:09.067 Thread 'MainThread': missing ScriptRunContext! This warning can be ignored when running in bare mode.\n",
            "2025-01-22 09:46:09.068 Thread 'MainThread': missing ScriptRunContext! This warning can be ignored when running in bare mode.\n",
            "2025-01-22 09:46:09.069 Thread 'MainThread': missing ScriptRunContext! This warning can be ignored when running in bare mode.\n",
            "2025-01-22 09:46:09.071 Thread 'MainThread': missing ScriptRunContext! This warning can be ignored when running in bare mode.\n",
            "2025-01-22 09:46:09.072 Thread 'MainThread': missing ScriptRunContext! This warning can be ignored when running in bare mode.\n",
            "2025-01-22 09:46:09.079 Thread 'MainThread': missing ScriptRunContext! This warning can be ignored when running in bare mode.\n",
            "2025-01-22 09:46:09.081 Thread 'MainThread': missing ScriptRunContext! This warning can be ignored when running in bare mode.\n",
            "2025-01-22 09:46:09.082 Thread 'MainThread': missing ScriptRunContext! This warning can be ignored when running in bare mode.\n",
            "2025-01-22 09:46:09.086 Thread 'MainThread': missing ScriptRunContext! This warning can be ignored when running in bare mode.\n",
            "2025-01-22 09:46:09.087 Thread 'MainThread': missing ScriptRunContext! This warning can be ignored when running in bare mode.\n",
            "2025-01-22 09:46:09.139 Thread 'MainThread': missing ScriptRunContext! This warning can be ignored when running in bare mode.\n",
            "2025-01-22 09:46:09.140 Thread 'MainThread': missing ScriptRunContext! This warning can be ignored when running in bare mode.\n",
            "2025-01-22 09:46:09.142 Thread 'MainThread': missing ScriptRunContext! This warning can be ignored when running in bare mode.\n",
            "2025-01-22 09:46:09.144 Thread 'MainThread': missing ScriptRunContext! This warning can be ignored when running in bare mode.\n",
            "2025-01-22 09:46:09.164 Thread 'MainThread': missing ScriptRunContext! This warning can be ignored when running in bare mode.\n",
            "2025-01-22 09:46:09.165 Thread 'MainThread': missing ScriptRunContext! This warning can be ignored when running in bare mode.\n",
            "2025-01-22 09:46:09.168 Thread 'MainThread': missing ScriptRunContext! This warning can be ignored when running in bare mode.\n",
            "2025-01-22 09:46:09.170 Thread 'MainThread': missing ScriptRunContext! This warning can be ignored when running in bare mode.\n",
            "2025-01-22 09:46:09.171 Thread 'MainThread': missing ScriptRunContext! This warning can be ignored when running in bare mode.\n",
            "2025-01-22 09:46:09.173 Thread 'MainThread': missing ScriptRunContext! This warning can be ignored when running in bare mode.\n",
            "2025-01-22 09:46:09.174 Thread 'MainThread': missing ScriptRunContext! This warning can be ignored when running in bare mode.\n",
            "2025-01-22 09:46:09.175 Thread 'MainThread': missing ScriptRunContext! This warning can be ignored when running in bare mode.\n",
            "2025-01-22 09:46:09.176 Thread 'MainThread': missing ScriptRunContext! This warning can be ignored when running in bare mode.\n",
            "2025-01-22 09:46:09.177 Thread 'MainThread': missing ScriptRunContext! This warning can be ignored when running in bare mode.\n",
            "2025-01-22 09:46:09.179 Thread 'MainThread': missing ScriptRunContext! This warning can be ignored when running in bare mode.\n",
            "2025-01-22 09:46:09.180 Thread 'MainThread': missing ScriptRunContext! This warning can be ignored when running in bare mode.\n",
            "2025-01-22 09:46:09.181 Thread 'MainThread': missing ScriptRunContext! This warning can be ignored when running in bare mode.\n",
            "2025-01-22 09:46:09.182 Thread 'MainThread': missing ScriptRunContext! This warning can be ignored when running in bare mode.\n",
            "2025-01-22 09:46:09.183 Thread 'MainThread': missing ScriptRunContext! This warning can be ignored when running in bare mode.\n",
            "2025-01-22 09:46:09.185 Thread 'MainThread': missing ScriptRunContext! This warning can be ignored when running in bare mode.\n",
            "2025-01-22 09:46:09.186 Thread 'MainThread': missing ScriptRunContext! This warning can be ignored when running in bare mode.\n",
            "2025-01-22 09:46:09.187 Thread 'MainThread': missing ScriptRunContext! This warning can be ignored when running in bare mode.\n",
            "2025-01-22 09:46:09.188 Thread 'MainThread': missing ScriptRunContext! This warning can be ignored when running in bare mode.\n",
            "2025-01-22 09:46:09.189 Thread 'MainThread': missing ScriptRunContext! This warning can be ignored when running in bare mode.\n",
            "2025-01-22 09:46:09.190 Thread 'MainThread': missing ScriptRunContext! This warning can be ignored when running in bare mode.\n",
            "2025-01-22 09:46:09.191 Thread 'MainThread': missing ScriptRunContext! This warning can be ignored when running in bare mode.\n",
            "2025-01-22 09:46:09.193 Thread 'MainThread': missing ScriptRunContext! This warning can be ignored when running in bare mode.\n",
            "2025-01-22 09:46:09.194 Thread 'MainThread': missing ScriptRunContext! This warning can be ignored when running in bare mode.\n",
            "2025-01-22 09:46:09.195 Thread 'MainThread': missing ScriptRunContext! This warning can be ignored when running in bare mode.\n",
            "2025-01-22 09:46:09.196 Thread 'MainThread': missing ScriptRunContext! This warning can be ignored when running in bare mode.\n",
            "2025-01-22 09:46:09.197 Thread 'MainThread': missing ScriptRunContext! This warning can be ignored when running in bare mode.\n",
            "2025-01-22 09:46:09.199 Thread 'MainThread': missing ScriptRunContext! This warning can be ignored when running in bare mode.\n"
          ]
        }
      ]
    },
    {
      "cell_type": "code",
      "source": [
        "# Create training and test sets\n",
        "train_data = df_grouped[(df_grouped['Sale Date'] < forecast_period_start) ]\n",
        "test_data = df_grouped[df_grouped['Sale Date'] >= forecast_period_start]\n",
        "\n",
        "#st.write(forecast_period_start)\n",
        "\n",
        "# Define feature columns (adjust based on your data)\n",
        "X_train = train_data[['Sum_PAX']]  # Example feature column\n",
        "y_train = train_data['Avg_YLD_USD']\n",
        "\n",
        "X_test = test_data[['Sum_PAX']]  # Example feature column\n",
        "y_test = test_data['Avg_YLD_USD']\n",
        "\n",
        "# Show train and test set sizes\n",
        "st.write(f\"Training Data Size: {len(X_train)}\")\n",
        "st.write(f\"Testing Data Size: {len(X_test)}\")"
      ],
      "metadata": {
        "colab": {
          "base_uri": "https://localhost:8080/"
        },
        "id": "gjpg74sdZ9td",
        "outputId": "66d813a5-538e-4691-ce46-bab136ee0850"
      },
      "execution_count": 9,
      "outputs": [
        {
          "output_type": "stream",
          "name": "stderr",
          "text": [
            "2025-01-22 09:46:39.953 Thread 'MainThread': missing ScriptRunContext! This warning can be ignored when running in bare mode.\n",
            "2025-01-22 09:46:39.963 Thread 'MainThread': missing ScriptRunContext! This warning can be ignored when running in bare mode.\n",
            "2025-01-22 09:46:39.965 Thread 'MainThread': missing ScriptRunContext! This warning can be ignored when running in bare mode.\n",
            "2025-01-22 09:46:39.968 Thread 'MainThread': missing ScriptRunContext! This warning can be ignored when running in bare mode.\n",
            "2025-01-22 09:46:39.972 Thread 'MainThread': missing ScriptRunContext! This warning can be ignored when running in bare mode.\n",
            "2025-01-22 09:46:39.975 Thread 'MainThread': missing ScriptRunContext! This warning can be ignored when running in bare mode.\n",
            "2025-01-22 09:46:39.979 Thread 'MainThread': missing ScriptRunContext! This warning can be ignored when running in bare mode.\n",
            "2025-01-22 09:46:39.983 Thread 'MainThread': missing ScriptRunContext! This warning can be ignored when running in bare mode.\n"
          ]
        }
      ]
    },
    {
      "cell_type": "code",
      "source": [
        "#Fit Auto ARIMA Model\n",
        "# Fit Auto ARIMA Model\n",
        "st.subheader(\"Auto ARIMA Model\")\n",
        "\n",
        "# Initialize the AutoARIMA model, passing y_train as the first argument\n",
        "arima_model = auto_arima(\n",
        "    y_train,  # Pass the time series data here\n",
        "    start_p=0, d=1, start_q=0,\n",
        "    max_p=5, max_d=5, max_q=5,\n",
        "    start_P=0, D=1, start_Q=0, max_P=5, max_D=5,\n",
        "    max_Q=5, sp=12, seasonal=True,\n",
        "    stationary=False,\n",
        "    error_action='warn', trace=True,\n",
        "    suppress_warnings=True, stepwise=True,\n",
        "    random_state=20, n_fits=50\n",
        ")\n",
        "\n",
        "# Fit the model (no need to call fit again since it's done in auto_arima)\n",
        "#arima_model.fit(y_train)  # Remove this line\n",
        "\n",
        "# Print AIC value and model summary in Streamlit\n",
        "# Access the AIC value directly using the 'aic' attribute\n",
        "st.write(f\"ARIMA Model AIC: {arima_model.aic()}\")\n",
        "st.write(\"ARIMA Model Summary:\")\n",
        "st.text(arima_model.summary())"
      ],
      "metadata": {
        "colab": {
          "base_uri": "https://localhost:8080/"
        },
        "id": "a5XrgkGyZ93D",
        "outputId": "ab2d8c11-d13a-4153-eb88-91008adb35b8"
      },
      "execution_count": 20,
      "outputs": [
        {
          "output_type": "stream",
          "name": "stderr",
          "text": [
            "2025-01-22 09:53:01.950 Thread 'MainThread': missing ScriptRunContext! This warning can be ignored when running in bare mode.\n",
            "2025-01-22 09:53:01.956 Thread 'MainThread': missing ScriptRunContext! This warning can be ignored when running in bare mode.\n"
          ]
        },
        {
          "output_type": "stream",
          "name": "stdout",
          "text": [
            "Performing stepwise search to minimize aic\n",
            " ARIMA(0,1,0)(0,0,0)[0] intercept   : AIC=2020.436, Time=0.02 sec\n",
            " ARIMA(1,1,0)(0,0,0)[0] intercept   : AIC=2001.907, Time=0.08 sec\n",
            " ARIMA(0,1,1)(0,0,0)[0] intercept   : AIC=1991.721, Time=0.09 sec\n",
            " ARIMA(0,1,0)(0,0,0)[0]             : AIC=2018.588, Time=0.02 sec\n",
            " ARIMA(1,1,1)(0,0,0)[0] intercept   : AIC=1991.178, Time=0.12 sec\n",
            " ARIMA(2,1,1)(0,0,0)[0] intercept   : AIC=1992.803, Time=0.19 sec\n",
            " ARIMA(1,1,2)(0,0,0)[0] intercept   : AIC=1995.064, Time=0.25 sec\n",
            " ARIMA(0,1,2)(0,0,0)[0] intercept   : AIC=1991.730, Time=0.16 sec\n",
            " ARIMA(2,1,0)(0,0,0)[0] intercept   : AIC=2003.445, Time=0.17 sec\n",
            " ARIMA(2,1,2)(0,0,0)[0] intercept   : AIC=1994.807, Time=0.48 sec\n",
            " ARIMA(1,1,1)(0,0,0)[0]             : AIC=1989.806, Time=0.07 sec\n",
            " ARIMA(0,1,1)(0,0,0)[0]             : AIC=1990.177, Time=0.05 sec\n",
            " ARIMA(1,1,0)(0,0,0)[0]             : AIC=1999.965, Time=0.04 sec\n",
            " ARIMA(2,1,1)(0,0,0)[0]             : AIC=1991.408, Time=0.12 sec\n",
            " ARIMA(1,1,2)(0,0,0)[0]             : AIC=1991.710, Time=0.15 sec\n",
            " ARIMA(0,1,2)(0,0,0)[0]             : AIC=1990.333, Time=0.07 sec\n",
            " ARIMA(2,1,0)(0,0,0)[0]             : AIC=2001.488, Time=0.08 sec\n"
          ]
        },
        {
          "output_type": "stream",
          "name": "stderr",
          "text": [
            "2025-01-22 09:53:04.288 Thread 'MainThread': missing ScriptRunContext! This warning can be ignored when running in bare mode.\n",
            "2025-01-22 09:53:04.290 Thread 'MainThread': missing ScriptRunContext! This warning can be ignored when running in bare mode.\n",
            "2025-01-22 09:53:04.293 Thread 'MainThread': missing ScriptRunContext! This warning can be ignored when running in bare mode.\n",
            "2025-01-22 09:53:04.296 Thread 'MainThread': missing ScriptRunContext! This warning can be ignored when running in bare mode.\n",
            "2025-01-22 09:53:04.298 Thread 'MainThread': missing ScriptRunContext! This warning can be ignored when running in bare mode.\n",
            "2025-01-22 09:53:04.299 Thread 'MainThread': missing ScriptRunContext! This warning can be ignored when running in bare mode.\n",
            "2025-01-22 09:53:04.301 Thread 'MainThread': missing ScriptRunContext! This warning can be ignored when running in bare mode.\n",
            "2025-01-22 09:53:04.302 Thread 'MainThread': missing ScriptRunContext! This warning can be ignored when running in bare mode.\n",
            "2025-01-22 09:53:04.319 Thread 'MainThread': missing ScriptRunContext! This warning can be ignored when running in bare mode.\n",
            "2025-01-22 09:53:04.322 Thread 'MainThread': missing ScriptRunContext! This warning can be ignored when running in bare mode.\n"
          ]
        },
        {
          "output_type": "stream",
          "name": "stdout",
          "text": [
            " ARIMA(2,1,2)(0,0,0)[0]             : AIC=1992.453, Time=0.16 sec\n",
            "\n",
            "Best model:  ARIMA(1,1,1)(0,0,0)[0]          \n",
            "Total fit time: 2.318 seconds\n"
          ]
        },
        {
          "output_type": "execute_result",
          "data": {
            "text/plain": [
              "DeltaGenerator()"
            ]
          },
          "metadata": {},
          "execution_count": 20
        }
      ]
    },
    {
      "cell_type": "code",
      "source": [],
      "metadata": {
        "id": "LBoMhvYecELu"
      },
      "execution_count": null,
      "outputs": []
    },
    {
      "cell_type": "code",
      "source": [],
      "metadata": {
        "id": "YmVbM0x4cEUf"
      },
      "execution_count": null,
      "outputs": []
    },
    {
      "cell_type": "code",
      "source": [],
      "metadata": {
        "id": "lMIy9qFacEfp"
      },
      "execution_count": null,
      "outputs": []
    }
  ]
}